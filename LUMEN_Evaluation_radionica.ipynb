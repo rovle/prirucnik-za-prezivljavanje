{
  "nbformat": 4,
  "nbformat_minor": 0,
  "metadata": {
    "colab": {
      "name": "LUMEN Evaluation radionica.ipynb",
      "provenance": [],
      "collapsed_sections": [],
      "include_colab_link": true
    },
    "kernelspec": {
      "name": "python3",
      "display_name": "Python 3"
    },
    "language_info": {
      "name": "python"
    }
  },
  "cells": [
    {
      "cell_type": "markdown",
      "metadata": {
        "id": "view-in-github",
        "colab_type": "text"
      },
      "source": [
        "<a href=\"https://colab.research.google.com/github/rovle/prirucnik-za-prezivljavanje/blob/main/LUMEN_Evaluation_radionica.ipynb\" target=\"_parent\"><img src=\"https://colab.research.google.com/assets/colab-badge.svg\" alt=\"Open In Colab\"/></a>"
      ]
    },
    {
      "cell_type": "markdown",
      "metadata": {
        "id": "yda8vI0HBaP0"
      },
      "source": [
        "# LUMEN Data Science Evaluation radionica\n",
        "\n",
        "U ovoj radionici ćemo kratko demonstrirati kauzalnu inferenciju koristeći paket DoWhy.\n",
        "\n",
        "Prvo instaliramo i importiramo potrebne pakete."
      ]
    },
    {
      "cell_type": "code",
      "metadata": {
        "colab": {
          "base_uri": "https://localhost:8080/"
        },
        "id": "e4gzKzF-tem7",
        "outputId": "007bb7f5-59c3-472a-e6ed-42fb31bea0cf"
      },
      "source": [
        "!pip install dowhy\n",
        "\n",
        "from numpy.random import beta, uniform, binomial\n",
        "from collections import defaultdict\n",
        "import matplotlib.pyplot as plt\n",
        "from dowhy import CausalModel\n",
        "import pandas as pd\n",
        "import numpy as np\n",
        "import warnings\n",
        "\n",
        "pd.set_option('display.float_format', lambda x: '%.2f' % x)\n",
        "warnings.filterwarnings(\"ignore\")\n",
        "plt.style.use('ggplot')\n",
        "np.random.seed(42)"
      ],
      "execution_count": 39,
      "outputs": [
        {
          "output_type": "stream",
          "text": [
            "Requirement already satisfied: dowhy in /usr/local/lib/python3.7/dist-packages (0.6)\n",
            "Requirement already satisfied: pandas>=0.24 in /usr/local/lib/python3.7/dist-packages (from dowhy) (1.1.5)\n",
            "Requirement already satisfied: scikit-learn in /usr/local/lib/python3.7/dist-packages (from dowhy) (0.22.2.post1)\n",
            "Requirement already satisfied: pydot>=1.4 in /usr/local/lib/python3.7/dist-packages (from dowhy) (1.4.2)\n",
            "Requirement already satisfied: statsmodels in /usr/local/lib/python3.7/dist-packages (from dowhy) (0.10.2)\n",
            "Requirement already satisfied: sympy>=1.4 in /usr/local/lib/python3.7/dist-packages (from dowhy) (1.7.1)\n",
            "Requirement already satisfied: scipy in /usr/local/lib/python3.7/dist-packages (from dowhy) (1.4.1)\n",
            "Requirement already satisfied: networkx>=2.0 in /usr/local/lib/python3.7/dist-packages (from dowhy) (2.5.1)\n",
            "Requirement already satisfied: numpy>=1.15 in /usr/local/lib/python3.7/dist-packages (from dowhy) (1.19.5)\n",
            "Requirement already satisfied: python-dateutil>=2.7.3 in /usr/local/lib/python3.7/dist-packages (from pandas>=0.24->dowhy) (2.8.1)\n",
            "Requirement already satisfied: pytz>=2017.2 in /usr/local/lib/python3.7/dist-packages (from pandas>=0.24->dowhy) (2018.9)\n",
            "Requirement already satisfied: joblib>=0.11 in /usr/local/lib/python3.7/dist-packages (from scikit-learn->dowhy) (1.0.1)\n",
            "Requirement already satisfied: pyparsing>=2.1.4 in /usr/local/lib/python3.7/dist-packages (from pydot>=1.4->dowhy) (2.4.7)\n",
            "Requirement already satisfied: patsy>=0.4.0 in /usr/local/lib/python3.7/dist-packages (from statsmodels->dowhy) (0.5.1)\n",
            "Requirement already satisfied: mpmath>=0.19 in /usr/local/lib/python3.7/dist-packages (from sympy>=1.4->dowhy) (1.2.1)\n",
            "Requirement already satisfied: decorator<5,>=4.3 in /usr/local/lib/python3.7/dist-packages (from networkx>=2.0->dowhy) (4.4.2)\n",
            "Requirement already satisfied: six>=1.5 in /usr/local/lib/python3.7/dist-packages (from python-dateutil>=2.7.3->pandas>=0.24->dowhy) (1.15.0)\n"
          ],
          "name": "stdout"
        }
      ]
    },
    {
      "cell_type": "markdown",
      "metadata": {
        "id": "a0P1cruzOP4m"
      },
      "source": [
        "Definiramo naš dataset. Radi se o (izmaštanom) datasetu prodaje određenih proizvoda. Značajke su\n",
        "- je li taj proizvod **šefov favorit**, binarno obilježje,\n",
        "- je li taj proizvod **reklamiran**, binarno obilježje,\n",
        "- **cijena** proizvoda, float od 10 do 1000,\n",
        "- proporcija tih proizvoda koji su **oštećeni**, float od 0 do 1.\n",
        "- je li taj proizvod **rasprodan**, binarno obilježje."
      ]
    },
    {
      "cell_type": "code",
      "metadata": {
        "id": "t_YqFXsv_y4I"
      },
      "source": [
        "def generate_dataset_prodaje(koliko_utjece=0):\n",
        "  sefov_favorit = binomial(1, 0.3, size=2000)\n",
        "  \n",
        "  reklamiran = beta(3, 5, size=2000) + sefov_favorit*0.2\n",
        "  reklamiran = np.vectorize(round)(reklamiran)\n",
        "\n",
        "  cijena = ( uniform(10, 800, size=2000)\n",
        "              + 100*reklamiran\n",
        "              + 100*sefov_favorit )\n",
        "\n",
        "  osteceni = beta(2, 20, size=2000) + 0.1*(1 - cijena/1000)\n",
        "\n",
        "  rasprodani = ( beta(2, 2, size=2000)\n",
        "                + reklamiran*koliko_utjece\n",
        "                - (cijena/1000)**3\n",
        "                - osteceni*0.3 )\n",
        "  rasprodani = np.vectorize(round)(rasprodani)\n",
        "  rasprodani = np.clip(rasprodani, 0, 1)\n",
        "\n",
        "  return reklamiran, cijena, osteceni, rasprodani, sefov_favorit"
      ],
      "execution_count": 2,
      "outputs": []
    },
    {
      "cell_type": "code",
      "metadata": {
        "id": "zdfz1MwTq_fE"
      },
      "source": [
        "df = pd.DataFrame(np.transpose(generate_dataset_prodaje(0)), columns=[\"Reklamiran\", \"Cijena\", \"Osteceni\", \"Rasprodani\",\n",
        "                                                                        \"Sefov_favorit\"])"
      ],
      "execution_count": 3,
      "outputs": []
    },
    {
      "cell_type": "markdown",
      "metadata": {
        "id": "XgGNcTcNVGgx"
      },
      "source": [
        "Kratko samo pregledavamo dataset:"
      ]
    },
    {
      "cell_type": "code",
      "metadata": {
        "colab": {
          "base_uri": "https://localhost:8080/",
          "height": 300
        },
        "id": "pW0FtwRXP4-_",
        "outputId": "90834fc0-b048-4ab6-d826-06d3af7cd9d5"
      },
      "source": [
        "df.describe()"
      ],
      "execution_count": 4,
      "outputs": [
        {
          "output_type": "execute_result",
          "data": {
            "text/html": [
              "<div>\n",
              "<style scoped>\n",
              "    .dataframe tbody tr th:only-of-type {\n",
              "        vertical-align: middle;\n",
              "    }\n",
              "\n",
              "    .dataframe tbody tr th {\n",
              "        vertical-align: top;\n",
              "    }\n",
              "\n",
              "    .dataframe thead th {\n",
              "        text-align: right;\n",
              "    }\n",
              "</style>\n",
              "<table border=\"1\" class=\"dataframe\">\n",
              "  <thead>\n",
              "    <tr style=\"text-align: right;\">\n",
              "      <th></th>\n",
              "      <th>Reklamiran</th>\n",
              "      <th>Cijena</th>\n",
              "      <th>Osteceni</th>\n",
              "      <th>Rasprodani</th>\n",
              "      <th>Sefov_favorit</th>\n",
              "    </tr>\n",
              "  </thead>\n",
              "  <tbody>\n",
              "    <tr>\n",
              "      <th>count</th>\n",
              "      <td>2000.00</td>\n",
              "      <td>2000.00</td>\n",
              "      <td>2000.00</td>\n",
              "      <td>2000.00</td>\n",
              "      <td>2000.00</td>\n",
              "    </tr>\n",
              "    <tr>\n",
              "      <th>mean</th>\n",
              "      <td>0.36</td>\n",
              "      <td>470.25</td>\n",
              "      <td>0.14</td>\n",
              "      <td>0.24</td>\n",
              "      <td>0.30</td>\n",
              "    </tr>\n",
              "    <tr>\n",
              "      <th>std</th>\n",
              "      <td>0.48</td>\n",
              "      <td>245.84</td>\n",
              "      <td>0.06</td>\n",
              "      <td>0.43</td>\n",
              "      <td>0.46</td>\n",
              "    </tr>\n",
              "    <tr>\n",
              "      <th>min</th>\n",
              "      <td>0.00</td>\n",
              "      <td>10.12</td>\n",
              "      <td>0.02</td>\n",
              "      <td>0.00</td>\n",
              "      <td>0.00</td>\n",
              "    </tr>\n",
              "    <tr>\n",
              "      <th>25%</th>\n",
              "      <td>0.00</td>\n",
              "      <td>266.03</td>\n",
              "      <td>0.10</td>\n",
              "      <td>0.00</td>\n",
              "      <td>0.00</td>\n",
              "    </tr>\n",
              "    <tr>\n",
              "      <th>50%</th>\n",
              "      <td>0.00</td>\n",
              "      <td>468.51</td>\n",
              "      <td>0.13</td>\n",
              "      <td>0.00</td>\n",
              "      <td>0.00</td>\n",
              "    </tr>\n",
              "    <tr>\n",
              "      <th>75%</th>\n",
              "      <td>1.00</td>\n",
              "      <td>670.93</td>\n",
              "      <td>0.18</td>\n",
              "      <td>0.00</td>\n",
              "      <td>1.00</td>\n",
              "    </tr>\n",
              "    <tr>\n",
              "      <th>max</th>\n",
              "      <td>1.00</td>\n",
              "      <td>998.90</td>\n",
              "      <td>0.43</td>\n",
              "      <td>1.00</td>\n",
              "      <td>1.00</td>\n",
              "    </tr>\n",
              "  </tbody>\n",
              "</table>\n",
              "</div>"
            ],
            "text/plain": [
              "       Reklamiran  Cijena  Osteceni  Rasprodani  Sefov_favorit\n",
              "count     2000.00 2000.00   2000.00     2000.00        2000.00\n",
              "mean         0.36  470.25      0.14        0.24           0.30\n",
              "std          0.48  245.84      0.06        0.43           0.46\n",
              "min          0.00   10.12      0.02        0.00           0.00\n",
              "25%          0.00  266.03      0.10        0.00           0.00\n",
              "50%          0.00  468.51      0.13        0.00           0.00\n",
              "75%          1.00  670.93      0.18        0.00           1.00\n",
              "max          1.00  998.90      0.43        1.00           1.00"
            ]
          },
          "metadata": {
            "tags": []
          },
          "execution_count": 4
        }
      ]
    },
    {
      "cell_type": "code",
      "metadata": {
        "colab": {
          "base_uri": "https://localhost:8080/",
          "height": 388
        },
        "id": "SMLThNWT3zk8",
        "outputId": "177f17fe-44e7-478b-f2d2-27711de4f2ff"
      },
      "source": [
        "df[['Cijena', 'Osteceni']].hist(figsize=(16, 5), bins=35, xlabelsize=8, ylabelsize=8)"
      ],
      "execution_count": 5,
      "outputs": [
        {
          "output_type": "execute_result",
          "data": {
            "text/plain": [
              "array([[<matplotlib.axes._subplots.AxesSubplot object at 0x7f211395ca90>,\n",
              "        <matplotlib.axes._subplots.AxesSubplot object at 0x7f21138c5150>]],\n",
              "      dtype=object)"
            ]
          },
          "metadata": {
            "tags": []
          },
          "execution_count": 5
        },
        {
          "output_type": "display_data",
          "data": {
            "image/png": "[encoded data removed]",
            "text/plain": [
              "<Figure size 1152x360 with 2 Axes>"
            ]
          },
          "metadata": {
            "tags": [],
            "needs_background": "light"
          }
        }
      ]
    },
    {
      "cell_type": "code",
      "metadata": {
        "colab": {
          "base_uri": "https://localhost:8080/",
          "height": 346
        },
        "id": "2r-0CS_jTUT6",
        "outputId": "74852e2b-d13b-47bf-b629-99b41327d3a6"
      },
      "source": [
        "fig, axes = plt.subplots(1, 3)\n",
        "fig.set_size_inches(20, 5)\n",
        "\n",
        "binarne_znacajke = ['Sefov_favorit', 'Reklamiran', 'Rasprodani']\n",
        "for it, ix in enumerate(binarne_znacajke):\n",
        "  df[[ix]].value_counts().plot.bar(ax=axes[it])\n",
        "  axes[it].set_xticklabels(['Nije', 'Jest'])\n"
      ],
      "execution_count": 24,
      "outputs": [
        {
          "output_type": "display_data",
          "data": {
            "image/png": "[encoded data removed]",
            "text/plain": [
              "<Figure size 1440x360 with 3 Axes>"
            ]
          },
          "metadata": {
            "tags": [],
            "needs_background": "light"
          }
        }
      ]
    },
    {
      "cell_type": "markdown",
      "metadata": {
        "id": "wWZ6iKSXVLbZ"
      },
      "source": [
        "Definiramo kauzalni graf:"
      ]
    },
    {
      "cell_type": "code",
      "metadata": {
        "id": "MBqRtwC1DJyA"
      },
      "source": [
        "causal_graph = \"\"\"\n",
        "digraph {\n",
        "Reklamiran;\n",
        "Cijena;\n",
        "Osteceni;\n",
        "Rasprodani;\n",
        "Sefov_favorit;\n",
        "Reklamiran -> Cijena; Cijena -> Osteceni;\n",
        "Osteceni -> Rasprodani; Cijena -> Rasprodani;\n",
        "Reklamiran->Rasprodani; Sefov_favorit -> Cijena;\n",
        "Sefov_favorit -> Reklamiran;\n",
        "}\n",
        "\"\"\""
      ],
      "execution_count": 9,
      "outputs": []
    },
    {
      "cell_type": "markdown",
      "metadata": {
        "id": "hCsyV1v8VT5Z"
      },
      "source": [
        "Definiramo kauzalni model i crtamo kauzalni graf:"
      ]
    },
    {
      "cell_type": "code",
      "metadata": {
        "id": "FTs7U0zDyVMP"
      },
      "source": [
        "df[['Reklamiran', 'Rasprodani']] = df[['Reklamiran', 'Rasprodani']].applymap(bool)\n",
        "\n",
        "model= CausalModel(\n",
        "        data = df,\n",
        "        graph=causal_graph.replace(\"\\n\", \" \"),\n",
        "        treatment='Reklamiran',\n",
        "        outcome='Rasprodani')"
      ],
      "execution_count": 10,
      "outputs": []
    },
    {
      "cell_type": "code",
      "metadata": {
        "colab": {
          "base_uri": "https://localhost:8080/",
          "height": 248
        },
        "id": "VuqIRyQ0ycHC",
        "outputId": "39c8e1c2-6855-4c1b-b25e-6a683d41feb8"
      },
      "source": [
        "model.view_model()"
      ],
      "execution_count": 11,
      "outputs": [
        {
          "output_type": "display_data",
          "data": {
            "image/png": "[encoded data removed]",
            "text/plain": [
              "<Figure size 432x288 with 1 Axes>"
            ]
          },
          "metadata": {
            "tags": []
          }
        }
      ]
    },
    {
      "cell_type": "markdown",
      "metadata": {
        "id": "VW6Ec2i9VjOr"
      },
      "source": [
        "Estimiramo kauzalni efekt:"
      ]
    },
    {
      "cell_type": "code",
      "metadata": {
        "colab": {
          "base_uri": "https://localhost:8080/"
        },
        "id": "5O0udFl1ypPr",
        "outputId": "67b94d95-ed68-4605-bd5b-ef128f0beb4d"
      },
      "source": [
        "estimands = model.identify_effect(proceed_when_unidentifiable=True)\n",
        "\n",
        "estimate = model.estimate_effect(estimands,method_name = \"backdoor.linear_regression\")\n",
        "print(estimate.value)"
      ],
      "execution_count": 29,
      "outputs": [
        {
          "output_type": "stream",
          "text": [
            "-0.07123667677450779\n"
          ],
          "name": "stdout"
        }
      ]
    },
    {
      "cell_type": "markdown",
      "metadata": {
        "id": "SSbA60TxVnWu"
      },
      "source": [
        "## Refutacija\n",
        "\n",
        "Ključan korak kauzalne inferencije su pokušaji refutacije onoga što smo dobili. Za to koristimo više tehnika:"
      ]
    },
    {
      "cell_type": "markdown",
      "metadata": {
        "id": "MJlq6K2ZiXdx"
      },
      "source": [
        "### Random common cause\n",
        "\n",
        "Dodajemo nezavisnu značajku kao zajednički uzrok značajkama dataseta; ako je kauzalna inferencija točna, estimacija se ne bi trebala značajno promijeniti."
      ]
    },
    {
      "cell_type": "code",
      "metadata": {
        "colab": {
          "base_uri": "https://localhost:8080/"
        },
        "id": "AVD2GqR-zwzA",
        "outputId": "0c2e59d2-9141-436f-f82a-0dcb1a193a1e"
      },
      "source": [
        "refutel = model.refute_estimate(estimands,estimate, \"random_common_cause\")\n",
        "print(refutel)"
      ],
      "execution_count": 13,
      "outputs": [
        {
          "output_type": "stream",
          "text": [
            "Refute: Add a Random Common Cause\n",
            "Estimated effect:-0.07305299634183735\n",
            "New effect:-0.01952386024522915\n",
            "\n"
          ],
          "name": "stdout"
        }
      ]
    },
    {
      "cell_type": "markdown",
      "metadata": {
        "id": "RSRV1bkIj9W7"
      },
      "source": [
        "### Placebo treatment\n",
        "\n",
        "Zamijenimo treatment značajku (Reklamirani) s nekom slučajno značajkom; ako je kauzalna inferencija točna, estimacija bi trebala biti blizu nule."
      ]
    },
    {
      "cell_type": "code",
      "metadata": {
        "colab": {
          "base_uri": "https://localhost:8080/"
        },
        "id": "zVHmy_OR6dR4",
        "outputId": "d0d35111-3a49-4be7-93a9-b93c150f1546"
      },
      "source": [
        "refutel = model.refute_estimate(estimands,estimate, \"placebo_treatment_refuter\")\n",
        "print(refutel)"
      ],
      "execution_count": 14,
      "outputs": [
        {
          "output_type": "stream",
          "text": [
            "Refute: Use a Placebo Treatment\n",
            "Estimated effect:-0.07305299634183735\n",
            "New effect:-0.00200747857073064\n",
            "p value:0.49\n",
            "\n"
          ],
          "name": "stdout"
        }
      ]
    },
    {
      "cell_type": "markdown",
      "metadata": {
        "id": "0Zf6P0WB8oHP"
      },
      "source": [
        "## Alexa play \"All Together Now\""
      ]
    },
    {
      "cell_type": "code",
      "metadata": {
        "id": "apH-xuWo6gfS"
      },
      "source": [
        "metode = [\"backdoor.linear_regression\",\n",
        "          \"backdoor.propensity_score_stratification\"]\n",
        "\n",
        "rezultati = defaultdict(list)\n",
        "\n",
        "for znacajnost in np.arange(-0.1, 0.5, 0.01):\n",
        "  for metoda in metode:\n",
        "    df = pd.DataFrame(np.transpose(generate_dataset_prodaje(znacajnost)),\n",
        "                      columns=[\"Reklamiran\", \"Cijena\", \"Osteceni\",\n",
        "                              \"Rasprodani\", \"Sefov_favorit\"])\n",
        "    df[['Reklamiran', 'Rasprodani']] = df[['Reklamiran',\n",
        "                                          'Rasprodani']].applymap(bool)\n",
        "\n",
        "    model= CausalModel(\n",
        "          data = df,\n",
        "          graph=causal_graph.replace(\"\\n\", \" \"),\n",
        "          treatment='Reklamiran',\n",
        "          outcome='Rasprodani')\n",
        "    \n",
        "    estimands = model.identify_effect(proceed_when_unidentifiable=True)\n",
        "\n",
        "    estimate = model.estimate_effect(estimands,\n",
        "                                    method_name = metoda)\n",
        "    \n",
        "\n",
        "    rezultati[metoda].append((znacajnost, estimate.value))\n",
        "  \n"
      ],
      "execution_count": 42,
      "outputs": []
    },
    {
      "cell_type": "code",
      "metadata": {
        "colab": {
          "base_uri": "https://localhost:8080/",
          "height": 354
        },
        "id": "cIlMNl23-Eqs",
        "outputId": "1e42a0b4-b983-4dd4-9f00-d4a0f7743b8e"
      },
      "source": [
        "fig, axes = plt.subplots(1, 2)\n",
        "fig.set_size_inches(20, 5)\n",
        "\n",
        "\n",
        "for ix, metoda in enumerate(metode):\n",
        "  tocke = rezultati[metoda]\n",
        "  axes[ix].scatter(x = [p[0] for p in tocke],\n",
        "                   y = [p[1] for p in tocke])\n",
        "  axes[ix].plot(np.arange(-0.1, 0.6, 0.1),\n",
        "                np.arange(-0.1, 0.6, 0.1),\n",
        "                linestyle='--', color='blue')\n",
        "  axes[ix].set_title(metoda)\n",
        "  axes[ix].set_xlabel('Faktor značajnosti')\n",
        "  axes[ix].set_ylabel('Estimacija kauzalnosti')"
      ],
      "execution_count": 66,
      "outputs": [
        {
          "output_type": "display_data",
          "data": {
            "image/png": "[encoded data removed]",
            "text/plain": [
              "<Figure size 1440x360 with 2 Axes>"
            ]
          },
          "metadata": {
            "tags": []
          }
        }
      ]
    },
    {
      "cell_type": "code",
      "metadata": {
        "id": "K-Mk0cXP_c73"
      },
      "source": [
        ""
      ],
      "execution_count": null,
      "outputs": []
    }
  ]
}